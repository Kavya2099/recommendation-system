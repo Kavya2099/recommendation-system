{
  "nbformat": 4,
  "nbformat_minor": 0,
  "metadata": {
    "colab": {
      "provenance": [],
      "collapsed_sections": [],
      "authorship_tag": "ABX9TyO0hqtbIkTEK+O4G4Rb6hSt",
      "include_colab_link": true
    },
    "kernelspec": {
      "name": "python3",
      "display_name": "Python 3"
    },
    "language_info": {
      "name": "python"
    }
  },
  "cells": [
    {
      "cell_type": "markdown",
      "metadata": {
        "id": "view-in-github",
        "colab_type": "text"
      },
      "source": [
        "<a href=\"https://colab.research.google.com/github/Kavya2099/recommendation-system/blob/main/Project_2_Content_based_Movie_recommendation_system.ipynb\" target=\"_parent\"><img src=\"https://colab.research.google.com/assets/colab-badge.svg\" alt=\"Open In Colab\"/></a>"
      ]
    },
    {
      "cell_type": "markdown",
      "source": [
        "Importing data"
      ],
      "metadata": {
        "id": "cTpa5knAhLGj"
      }
    },
    {
      "cell_type": "markdown",
      "source": [
        "\n",
        "1.   Get file\n",
        "2.   Unzipping the zip file\n",
        "3.   Reading file\n",
        "\n"
      ],
      "metadata": {
        "id": "E914HsPcur1Y"
      }
    },
    {
      "cell_type": "code",
      "execution_count": null,
      "metadata": {
        "colab": {
          "base_uri": "https://localhost:8080/"
        },
        "id": "7WA_iRYQgJBM",
        "outputId": "54b92740-fc2c-485a-92d7-576f49af853a"
      },
      "outputs": [
        {
          "output_type": "stream",
          "name": "stdout",
          "text": [
            "--2022-10-25 02:51:56--  https://files.grouplens.org/datasets/movielens/ml-25m.zip\n",
            "Resolving files.grouplens.org (files.grouplens.org)... 128.101.65.152\n",
            "Connecting to files.grouplens.org (files.grouplens.org)|128.101.65.152|:443... connected.\n",
            "HTTP request sent, awaiting response... 200 OK\n",
            "Length: 261978986 (250M) [application/zip]\n",
            "Saving to: ‘ml-25m.zip’\n",
            "\n",
            "ml-25m.zip          100%[===================>] 249.84M  77.0MB/s    in 3.2s    \n",
            "\n",
            "2022-10-25 02:52:02 (77.0 MB/s) - ‘ml-25m.zip’ saved [261978986/261978986]\n",
            "\n"
          ]
        }
      ],
      "source": [
        "import pandas as pd\n",
        "import numpy as np\n",
        "from zipfile import ZipFile\n",
        "\n",
        "!wget https://files.grouplens.org/datasets/movielens/ml-25m.zip\n",
        "\n",
        "\n",
        "\n"
      ]
    },
    {
      "cell_type": "code",
      "source": [
        "!unzip ml-25m.zip"
      ],
      "metadata": {
        "colab": {
          "base_uri": "https://localhost:8080/"
        },
        "id": "QQ8n_cHXot33",
        "outputId": "3f0a7ad9-95a1-49d3-94c4-243640b9a90b"
      },
      "execution_count": null,
      "outputs": [
        {
          "output_type": "stream",
          "name": "stdout",
          "text": [
            "Archive:  ml-25m.zip\n",
            "   creating: ml-25m/\n",
            "  inflating: ml-25m/tags.csv         \n",
            "  inflating: ml-25m/links.csv        \n",
            "  inflating: ml-25m/README.txt       \n",
            "  inflating: ml-25m/ratings.csv      \n",
            "  inflating: ml-25m/genome-tags.csv  \n",
            "  inflating: ml-25m/genome-scores.csv  \n",
            "  inflating: ml-25m/movies.csv       \n"
          ]
        }
      ]
    },
    {
      "cell_type": "code",
      "source": [
        "!head ml-25m/movies.csv\n",
        "\n",
        "movie= pd.read_csv('ml-25m/movies.csv')\n",
        "ratings = pd.read_csv('ml-25m/ratings.csv')"
      ],
      "metadata": {
        "colab": {
          "base_uri": "https://localhost:8080/"
        },
        "id": "wJK3-0CGpCzO",
        "outputId": "79998cbb-e0bf-4cd1-c74d-a9b882a4d7ad"
      },
      "execution_count": null,
      "outputs": [
        {
          "output_type": "stream",
          "name": "stdout",
          "text": [
            "movieId,title,genres\r\n",
            "1,Toy Story (1995),Adventure|Animation|Children|Comedy|Fantasy\r\n",
            "2,Jumanji (1995),Adventure|Children|Fantasy\r\n",
            "3,Grumpier Old Men (1995),Comedy|Romance\r\n",
            "4,Waiting to Exhale (1995),Comedy|Drama|Romance\r\n",
            "5,Father of the Bride Part II (1995),Comedy\r\n",
            "6,Heat (1995),Action|Crime|Thriller\r\n",
            "7,Sabrina (1995),Comedy|Romance\r\n",
            "8,Tom and Huck (1995),Adventure|Children\r\n",
            "9,Sudden Death (1995),Action\r\n"
          ]
        }
      ]
    },
    {
      "cell_type": "code",
      "source": [
        "movie.head()"
      ],
      "metadata": {
        "colab": {
          "base_uri": "https://localhost:8080/",
          "height": 206
        },
        "id": "yawFrPMtpgHX",
        "outputId": "bc850ace-8c10-472a-bf4d-c79cbd225444"
      },
      "execution_count": null,
      "outputs": [
        {
          "output_type": "execute_result",
          "data": {
            "text/plain": [
              "   movieId                               title  \\\n",
              "0        1                    Toy Story (1995)   \n",
              "1        2                      Jumanji (1995)   \n",
              "2        3             Grumpier Old Men (1995)   \n",
              "3        4            Waiting to Exhale (1995)   \n",
              "4        5  Father of the Bride Part II (1995)   \n",
              "\n",
              "                                        genres  \n",
              "0  Adventure|Animation|Children|Comedy|Fantasy  \n",
              "1                   Adventure|Children|Fantasy  \n",
              "2                               Comedy|Romance  \n",
              "3                         Comedy|Drama|Romance  \n",
              "4                                       Comedy  "
            ],
            "text/html": [
              "\n",
              "  <div id=\"df-3fc0c75d-0517-42e4-91a8-30c5301ac215\">\n",
              "    <div class=\"colab-df-container\">\n",
              "      <div>\n",
              "<style scoped>\n",
              "    .dataframe tbody tr th:only-of-type {\n",
              "        vertical-align: middle;\n",
              "    }\n",
              "\n",
              "    .dataframe tbody tr th {\n",
              "        vertical-align: top;\n",
              "    }\n",
              "\n",
              "    .dataframe thead th {\n",
              "        text-align: right;\n",
              "    }\n",
              "</style>\n",
              "<table border=\"1\" class=\"dataframe\">\n",
              "  <thead>\n",
              "    <tr style=\"text-align: right;\">\n",
              "      <th></th>\n",
              "      <th>movieId</th>\n",
              "      <th>title</th>\n",
              "      <th>genres</th>\n",
              "    </tr>\n",
              "  </thead>\n",
              "  <tbody>\n",
              "    <tr>\n",
              "      <th>0</th>\n",
              "      <td>1</td>\n",
              "      <td>Toy Story (1995)</td>\n",
              "      <td>Adventure|Animation|Children|Comedy|Fantasy</td>\n",
              "    </tr>\n",
              "    <tr>\n",
              "      <th>1</th>\n",
              "      <td>2</td>\n",
              "      <td>Jumanji (1995)</td>\n",
              "      <td>Adventure|Children|Fantasy</td>\n",
              "    </tr>\n",
              "    <tr>\n",
              "      <th>2</th>\n",
              "      <td>3</td>\n",
              "      <td>Grumpier Old Men (1995)</td>\n",
              "      <td>Comedy|Romance</td>\n",
              "    </tr>\n",
              "    <tr>\n",
              "      <th>3</th>\n",
              "      <td>4</td>\n",
              "      <td>Waiting to Exhale (1995)</td>\n",
              "      <td>Comedy|Drama|Romance</td>\n",
              "    </tr>\n",
              "    <tr>\n",
              "      <th>4</th>\n",
              "      <td>5</td>\n",
              "      <td>Father of the Bride Part II (1995)</td>\n",
              "      <td>Comedy</td>\n",
              "    </tr>\n",
              "  </tbody>\n",
              "</table>\n",
              "</div>\n",
              "      <button class=\"colab-df-convert\" onclick=\"convertToInteractive('df-3fc0c75d-0517-42e4-91a8-30c5301ac215')\"\n",
              "              title=\"Convert this dataframe to an interactive table.\"\n",
              "              style=\"display:none;\">\n",
              "        \n",
              "  <svg xmlns=\"http://www.w3.org/2000/svg\" height=\"24px\"viewBox=\"0 0 24 24\"\n",
              "       width=\"24px\">\n",
              "    <path d=\"M0 0h24v24H0V0z\" fill=\"none\"/>\n",
              "    <path d=\"M18.56 5.44l.94 2.06.94-2.06 2.06-.94-2.06-.94-.94-2.06-.94 2.06-2.06.94zm-11 1L8.5 8.5l.94-2.06 2.06-.94-2.06-.94L8.5 2.5l-.94 2.06-2.06.94zm10 10l.94 2.06.94-2.06 2.06-.94-2.06-.94-.94-2.06-.94 2.06-2.06.94z\"/><path d=\"M17.41 7.96l-1.37-1.37c-.4-.4-.92-.59-1.43-.59-.52 0-1.04.2-1.43.59L10.3 9.45l-7.72 7.72c-.78.78-.78 2.05 0 2.83L4 21.41c.39.39.9.59 1.41.59.51 0 1.02-.2 1.41-.59l7.78-7.78 2.81-2.81c.8-.78.8-2.07 0-2.86zM5.41 20L4 18.59l7.72-7.72 1.47 1.35L5.41 20z\"/>\n",
              "  </svg>\n",
              "      </button>\n",
              "      \n",
              "  <style>\n",
              "    .colab-df-container {\n",
              "      display:flex;\n",
              "      flex-wrap:wrap;\n",
              "      gap: 12px;\n",
              "    }\n",
              "\n",
              "    .colab-df-convert {\n",
              "      background-color: #E8F0FE;\n",
              "      border: none;\n",
              "      border-radius: 50%;\n",
              "      cursor: pointer;\n",
              "      display: none;\n",
              "      fill: #1967D2;\n",
              "      height: 32px;\n",
              "      padding: 0 0 0 0;\n",
              "      width: 32px;\n",
              "    }\n",
              "\n",
              "    .colab-df-convert:hover {\n",
              "      background-color: #E2EBFA;\n",
              "      box-shadow: 0px 1px 2px rgba(60, 64, 67, 0.3), 0px 1px 3px 1px rgba(60, 64, 67, 0.15);\n",
              "      fill: #174EA6;\n",
              "    }\n",
              "\n",
              "    [theme=dark] .colab-df-convert {\n",
              "      background-color: #3B4455;\n",
              "      fill: #D2E3FC;\n",
              "    }\n",
              "\n",
              "    [theme=dark] .colab-df-convert:hover {\n",
              "      background-color: #434B5C;\n",
              "      box-shadow: 0px 1px 3px 1px rgba(0, 0, 0, 0.15);\n",
              "      filter: drop-shadow(0px 1px 2px rgba(0, 0, 0, 0.3));\n",
              "      fill: #FFFFFF;\n",
              "    }\n",
              "  </style>\n",
              "\n",
              "      <script>\n",
              "        const buttonEl =\n",
              "          document.querySelector('#df-3fc0c75d-0517-42e4-91a8-30c5301ac215 button.colab-df-convert');\n",
              "        buttonEl.style.display =\n",
              "          google.colab.kernel.accessAllowed ? 'block' : 'none';\n",
              "\n",
              "        async function convertToInteractive(key) {\n",
              "          const element = document.querySelector('#df-3fc0c75d-0517-42e4-91a8-30c5301ac215');\n",
              "          const dataTable =\n",
              "            await google.colab.kernel.invokeFunction('convertToInteractive',\n",
              "                                                     [key], {});\n",
              "          if (!dataTable) return;\n",
              "\n",
              "          const docLinkHtml = 'Like what you see? Visit the ' +\n",
              "            '<a target=\"_blank\" href=https://colab.research.google.com/notebooks/data_table.ipynb>data table notebook</a>'\n",
              "            + ' to learn more about interactive tables.';\n",
              "          element.innerHTML = '';\n",
              "          dataTable['output_type'] = 'display_data';\n",
              "          await google.colab.output.renderOutput(dataTable, element);\n",
              "          const docLink = document.createElement('div');\n",
              "          docLink.innerHTML = docLinkHtml;\n",
              "          element.appendChild(docLink);\n",
              "        }\n",
              "      </script>\n",
              "    </div>\n",
              "  </div>\n",
              "  "
            ]
          },
          "metadata": {},
          "execution_count": 8
        }
      ]
    },
    {
      "cell_type": "code",
      "source": [
        "ratings.head()"
      ],
      "metadata": {
        "colab": {
          "base_uri": "https://localhost:8080/",
          "height": 206
        },
        "id": "dLxHlUElulZN",
        "outputId": "71db6613-9a86-48fc-a829-b22a390a8c80"
      },
      "execution_count": null,
      "outputs": [
        {
          "output_type": "execute_result",
          "data": {
            "text/plain": [
              "   userId  movieId  rating   timestamp\n",
              "0       1      296     5.0  1147880044\n",
              "1       1      306     3.5  1147868817\n",
              "2       1      307     5.0  1147868828\n",
              "3       1      665     5.0  1147878820\n",
              "4       1      899     3.5  1147868510"
            ],
            "text/html": [
              "\n",
              "  <div id=\"df-d97710e1-b3bb-42cc-a8c9-7ccc075ea591\">\n",
              "    <div class=\"colab-df-container\">\n",
              "      <div>\n",
              "<style scoped>\n",
              "    .dataframe tbody tr th:only-of-type {\n",
              "        vertical-align: middle;\n",
              "    }\n",
              "\n",
              "    .dataframe tbody tr th {\n",
              "        vertical-align: top;\n",
              "    }\n",
              "\n",
              "    .dataframe thead th {\n",
              "        text-align: right;\n",
              "    }\n",
              "</style>\n",
              "<table border=\"1\" class=\"dataframe\">\n",
              "  <thead>\n",
              "    <tr style=\"text-align: right;\">\n",
              "      <th></th>\n",
              "      <th>userId</th>\n",
              "      <th>movieId</th>\n",
              "      <th>rating</th>\n",
              "      <th>timestamp</th>\n",
              "    </tr>\n",
              "  </thead>\n",
              "  <tbody>\n",
              "    <tr>\n",
              "      <th>0</th>\n",
              "      <td>1</td>\n",
              "      <td>296</td>\n",
              "      <td>5.0</td>\n",
              "      <td>1147880044</td>\n",
              "    </tr>\n",
              "    <tr>\n",
              "      <th>1</th>\n",
              "      <td>1</td>\n",
              "      <td>306</td>\n",
              "      <td>3.5</td>\n",
              "      <td>1147868817</td>\n",
              "    </tr>\n",
              "    <tr>\n",
              "      <th>2</th>\n",
              "      <td>1</td>\n",
              "      <td>307</td>\n",
              "      <td>5.0</td>\n",
              "      <td>1147868828</td>\n",
              "    </tr>\n",
              "    <tr>\n",
              "      <th>3</th>\n",
              "      <td>1</td>\n",
              "      <td>665</td>\n",
              "      <td>5.0</td>\n",
              "      <td>1147878820</td>\n",
              "    </tr>\n",
              "    <tr>\n",
              "      <th>4</th>\n",
              "      <td>1</td>\n",
              "      <td>899</td>\n",
              "      <td>3.5</td>\n",
              "      <td>1147868510</td>\n",
              "    </tr>\n",
              "  </tbody>\n",
              "</table>\n",
              "</div>\n",
              "      <button class=\"colab-df-convert\" onclick=\"convertToInteractive('df-d97710e1-b3bb-42cc-a8c9-7ccc075ea591')\"\n",
              "              title=\"Convert this dataframe to an interactive table.\"\n",
              "              style=\"display:none;\">\n",
              "        \n",
              "  <svg xmlns=\"http://www.w3.org/2000/svg\" height=\"24px\"viewBox=\"0 0 24 24\"\n",
              "       width=\"24px\">\n",
              "    <path d=\"M0 0h24v24H0V0z\" fill=\"none\"/>\n",
              "    <path d=\"M18.56 5.44l.94 2.06.94-2.06 2.06-.94-2.06-.94-.94-2.06-.94 2.06-2.06.94zm-11 1L8.5 8.5l.94-2.06 2.06-.94-2.06-.94L8.5 2.5l-.94 2.06-2.06.94zm10 10l.94 2.06.94-2.06 2.06-.94-2.06-.94-.94-2.06-.94 2.06-2.06.94z\"/><path d=\"M17.41 7.96l-1.37-1.37c-.4-.4-.92-.59-1.43-.59-.52 0-1.04.2-1.43.59L10.3 9.45l-7.72 7.72c-.78.78-.78 2.05 0 2.83L4 21.41c.39.39.9.59 1.41.59.51 0 1.02-.2 1.41-.59l7.78-7.78 2.81-2.81c.8-.78.8-2.07 0-2.86zM5.41 20L4 18.59l7.72-7.72 1.47 1.35L5.41 20z\"/>\n",
              "  </svg>\n",
              "      </button>\n",
              "      \n",
              "  <style>\n",
              "    .colab-df-container {\n",
              "      display:flex;\n",
              "      flex-wrap:wrap;\n",
              "      gap: 12px;\n",
              "    }\n",
              "\n",
              "    .colab-df-convert {\n",
              "      background-color: #E8F0FE;\n",
              "      border: none;\n",
              "      border-radius: 50%;\n",
              "      cursor: pointer;\n",
              "      display: none;\n",
              "      fill: #1967D2;\n",
              "      height: 32px;\n",
              "      padding: 0 0 0 0;\n",
              "      width: 32px;\n",
              "    }\n",
              "\n",
              "    .colab-df-convert:hover {\n",
              "      background-color: #E2EBFA;\n",
              "      box-shadow: 0px 1px 2px rgba(60, 64, 67, 0.3), 0px 1px 3px 1px rgba(60, 64, 67, 0.15);\n",
              "      fill: #174EA6;\n",
              "    }\n",
              "\n",
              "    [theme=dark] .colab-df-convert {\n",
              "      background-color: #3B4455;\n",
              "      fill: #D2E3FC;\n",
              "    }\n",
              "\n",
              "    [theme=dark] .colab-df-convert:hover {\n",
              "      background-color: #434B5C;\n",
              "      box-shadow: 0px 1px 3px 1px rgba(0, 0, 0, 0.15);\n",
              "      filter: drop-shadow(0px 1px 2px rgba(0, 0, 0, 0.3));\n",
              "      fill: #FFFFFF;\n",
              "    }\n",
              "  </style>\n",
              "\n",
              "      <script>\n",
              "        const buttonEl =\n",
              "          document.querySelector('#df-d97710e1-b3bb-42cc-a8c9-7ccc075ea591 button.colab-df-convert');\n",
              "        buttonEl.style.display =\n",
              "          google.colab.kernel.accessAllowed ? 'block' : 'none';\n",
              "\n",
              "        async function convertToInteractive(key) {\n",
              "          const element = document.querySelector('#df-d97710e1-b3bb-42cc-a8c9-7ccc075ea591');\n",
              "          const dataTable =\n",
              "            await google.colab.kernel.invokeFunction('convertToInteractive',\n",
              "                                                     [key], {});\n",
              "          if (!dataTable) return;\n",
              "\n",
              "          const docLinkHtml = 'Like what you see? Visit the ' +\n",
              "            '<a target=\"_blank\" href=https://colab.research.google.com/notebooks/data_table.ipynb>data table notebook</a>'\n",
              "            + ' to learn more about interactive tables.';\n",
              "          element.innerHTML = '';\n",
              "          dataTable['output_type'] = 'display_data';\n",
              "          await google.colab.output.renderOutput(dataTable, element);\n",
              "          const docLink = document.createElement('div');\n",
              "          docLink.innerHTML = docLinkHtml;\n",
              "          element.appendChild(docLink);\n",
              "        }\n",
              "      </script>\n",
              "    </div>\n",
              "  </div>\n",
              "  "
            ]
          },
          "metadata": {},
          "execution_count": 9
        }
      ]
    },
    {
      "cell_type": "markdown",
      "source": [
        "We will recommend the movies based on the title provided. It is a content based filtering model.\n",
        "\n",
        "Filtering is based on the title. "
      ],
      "metadata": {
        "id": "oJ4-0o79A0c4"
      }
    },
    {
      "cell_type": "markdown",
      "source": [
        "As we can see we have other characters involved in movie, we'll change the movie title name to be easily used by ML\n",
        "\n",
        "\n",
        "A regular expression (or RE) specifies a set of strings that matches it; the functions let you check if a particular string matches a given regular expression (or if a given regular expression matches a particular string, which comes down to the same thing)"
      ],
      "metadata": {
        "id": "nrwmluzBu-Ec"
      }
    },
    {
      "cell_type": "code",
      "source": [
        "import re\n",
        "\n",
        "def new_title(title):\n",
        "    title = re.sub(\"[^a-zA-Z0-9 ]\", \"\", title)\n",
        "    return title\n",
        "movie[\"new_title\"] = movie[\"title\"].apply(new_title)"
      ],
      "metadata": {
        "id": "L3uY_iPzvVbk"
      },
      "execution_count": null,
      "outputs": []
    },
    {
      "cell_type": "code",
      "source": [
        "movie.shape"
      ],
      "metadata": {
        "colab": {
          "base_uri": "https://localhost:8080/"
        },
        "id": "B_0rNIea9Qbo",
        "outputId": "f86ab662-bbbb-4a8e-f522-d0eca5aeb613"
      },
      "execution_count": null,
      "outputs": [
        {
          "output_type": "execute_result",
          "data": {
            "text/plain": [
              "(62423, 4)"
            ]
          },
          "metadata": {},
          "execution_count": 11
        }
      ]
    },
    {
      "cell_type": "code",
      "source": [
        "movie"
      ],
      "metadata": {
        "colab": {
          "base_uri": "https://localhost:8080/",
          "height": 423
        },
        "id": "QxJq3yrRzILN",
        "outputId": "e4cf536c-c22d-41b8-948e-d031658c1afe"
      },
      "execution_count": null,
      "outputs": [
        {
          "output_type": "execute_result",
          "data": {
            "text/plain": [
              "       movieId                               title  \\\n",
              "0            1                    Toy Story (1995)   \n",
              "1            2                      Jumanji (1995)   \n",
              "2            3             Grumpier Old Men (1995)   \n",
              "3            4            Waiting to Exhale (1995)   \n",
              "4            5  Father of the Bride Part II (1995)   \n",
              "...        ...                                 ...   \n",
              "62418   209157                           We (2018)   \n",
              "62419   209159           Window of the Soul (2001)   \n",
              "62420   209163                    Bad Poems (2018)   \n",
              "62421   209169                 A Girl Thing (2001)   \n",
              "62422   209171      Women of Devil's Island (1962)   \n",
              "\n",
              "                                            genres  \\\n",
              "0      Adventure|Animation|Children|Comedy|Fantasy   \n",
              "1                       Adventure|Children|Fantasy   \n",
              "2                                   Comedy|Romance   \n",
              "3                             Comedy|Drama|Romance   \n",
              "4                                           Comedy   \n",
              "...                                            ...   \n",
              "62418                                        Drama   \n",
              "62419                                  Documentary   \n",
              "62420                                 Comedy|Drama   \n",
              "62421                           (no genres listed)   \n",
              "62422                       Action|Adventure|Drama   \n",
              "\n",
              "                              new_title  \n",
              "0                        Toy Story 1995  \n",
              "1                          Jumanji 1995  \n",
              "2                 Grumpier Old Men 1995  \n",
              "3                Waiting to Exhale 1995  \n",
              "4      Father of the Bride Part II 1995  \n",
              "...                                 ...  \n",
              "62418                           We 2018  \n",
              "62419           Window of the Soul 2001  \n",
              "62420                    Bad Poems 2018  \n",
              "62421                 A Girl Thing 2001  \n",
              "62422       Women of Devils Island 1962  \n",
              "\n",
              "[62423 rows x 4 columns]"
            ],
            "text/html": [
              "\n",
              "  <div id=\"df-91dbb553-8978-4c39-9ec4-59f1f8cd545f\">\n",
              "    <div class=\"colab-df-container\">\n",
              "      <div>\n",
              "<style scoped>\n",
              "    .dataframe tbody tr th:only-of-type {\n",
              "        vertical-align: middle;\n",
              "    }\n",
              "\n",
              "    .dataframe tbody tr th {\n",
              "        vertical-align: top;\n",
              "    }\n",
              "\n",
              "    .dataframe thead th {\n",
              "        text-align: right;\n",
              "    }\n",
              "</style>\n",
              "<table border=\"1\" class=\"dataframe\">\n",
              "  <thead>\n",
              "    <tr style=\"text-align: right;\">\n",
              "      <th></th>\n",
              "      <th>movieId</th>\n",
              "      <th>title</th>\n",
              "      <th>genres</th>\n",
              "      <th>new_title</th>\n",
              "    </tr>\n",
              "  </thead>\n",
              "  <tbody>\n",
              "    <tr>\n",
              "      <th>0</th>\n",
              "      <td>1</td>\n",
              "      <td>Toy Story (1995)</td>\n",
              "      <td>Adventure|Animation|Children|Comedy|Fantasy</td>\n",
              "      <td>Toy Story 1995</td>\n",
              "    </tr>\n",
              "    <tr>\n",
              "      <th>1</th>\n",
              "      <td>2</td>\n",
              "      <td>Jumanji (1995)</td>\n",
              "      <td>Adventure|Children|Fantasy</td>\n",
              "      <td>Jumanji 1995</td>\n",
              "    </tr>\n",
              "    <tr>\n",
              "      <th>2</th>\n",
              "      <td>3</td>\n",
              "      <td>Grumpier Old Men (1995)</td>\n",
              "      <td>Comedy|Romance</td>\n",
              "      <td>Grumpier Old Men 1995</td>\n",
              "    </tr>\n",
              "    <tr>\n",
              "      <th>3</th>\n",
              "      <td>4</td>\n",
              "      <td>Waiting to Exhale (1995)</td>\n",
              "      <td>Comedy|Drama|Romance</td>\n",
              "      <td>Waiting to Exhale 1995</td>\n",
              "    </tr>\n",
              "    <tr>\n",
              "      <th>4</th>\n",
              "      <td>5</td>\n",
              "      <td>Father of the Bride Part II (1995)</td>\n",
              "      <td>Comedy</td>\n",
              "      <td>Father of the Bride Part II 1995</td>\n",
              "    </tr>\n",
              "    <tr>\n",
              "      <th>...</th>\n",
              "      <td>...</td>\n",
              "      <td>...</td>\n",
              "      <td>...</td>\n",
              "      <td>...</td>\n",
              "    </tr>\n",
              "    <tr>\n",
              "      <th>62418</th>\n",
              "      <td>209157</td>\n",
              "      <td>We (2018)</td>\n",
              "      <td>Drama</td>\n",
              "      <td>We 2018</td>\n",
              "    </tr>\n",
              "    <tr>\n",
              "      <th>62419</th>\n",
              "      <td>209159</td>\n",
              "      <td>Window of the Soul (2001)</td>\n",
              "      <td>Documentary</td>\n",
              "      <td>Window of the Soul 2001</td>\n",
              "    </tr>\n",
              "    <tr>\n",
              "      <th>62420</th>\n",
              "      <td>209163</td>\n",
              "      <td>Bad Poems (2018)</td>\n",
              "      <td>Comedy|Drama</td>\n",
              "      <td>Bad Poems 2018</td>\n",
              "    </tr>\n",
              "    <tr>\n",
              "      <th>62421</th>\n",
              "      <td>209169</td>\n",
              "      <td>A Girl Thing (2001)</td>\n",
              "      <td>(no genres listed)</td>\n",
              "      <td>A Girl Thing 2001</td>\n",
              "    </tr>\n",
              "    <tr>\n",
              "      <th>62422</th>\n",
              "      <td>209171</td>\n",
              "      <td>Women of Devil's Island (1962)</td>\n",
              "      <td>Action|Adventure|Drama</td>\n",
              "      <td>Women of Devils Island 1962</td>\n",
              "    </tr>\n",
              "  </tbody>\n",
              "</table>\n",
              "<p>62423 rows × 4 columns</p>\n",
              "</div>\n",
              "      <button class=\"colab-df-convert\" onclick=\"convertToInteractive('df-91dbb553-8978-4c39-9ec4-59f1f8cd545f')\"\n",
              "              title=\"Convert this dataframe to an interactive table.\"\n",
              "              style=\"display:none;\">\n",
              "        \n",
              "  <svg xmlns=\"http://www.w3.org/2000/svg\" height=\"24px\"viewBox=\"0 0 24 24\"\n",
              "       width=\"24px\">\n",
              "    <path d=\"M0 0h24v24H0V0z\" fill=\"none\"/>\n",
              "    <path d=\"M18.56 5.44l.94 2.06.94-2.06 2.06-.94-2.06-.94-.94-2.06-.94 2.06-2.06.94zm-11 1L8.5 8.5l.94-2.06 2.06-.94-2.06-.94L8.5 2.5l-.94 2.06-2.06.94zm10 10l.94 2.06.94-2.06 2.06-.94-2.06-.94-.94-2.06-.94 2.06-2.06.94z\"/><path d=\"M17.41 7.96l-1.37-1.37c-.4-.4-.92-.59-1.43-.59-.52 0-1.04.2-1.43.59L10.3 9.45l-7.72 7.72c-.78.78-.78 2.05 0 2.83L4 21.41c.39.39.9.59 1.41.59.51 0 1.02-.2 1.41-.59l7.78-7.78 2.81-2.81c.8-.78.8-2.07 0-2.86zM5.41 20L4 18.59l7.72-7.72 1.47 1.35L5.41 20z\"/>\n",
              "  </svg>\n",
              "      </button>\n",
              "      \n",
              "  <style>\n",
              "    .colab-df-container {\n",
              "      display:flex;\n",
              "      flex-wrap:wrap;\n",
              "      gap: 12px;\n",
              "    }\n",
              "\n",
              "    .colab-df-convert {\n",
              "      background-color: #E8F0FE;\n",
              "      border: none;\n",
              "      border-radius: 50%;\n",
              "      cursor: pointer;\n",
              "      display: none;\n",
              "      fill: #1967D2;\n",
              "      height: 32px;\n",
              "      padding: 0 0 0 0;\n",
              "      width: 32px;\n",
              "    }\n",
              "\n",
              "    .colab-df-convert:hover {\n",
              "      background-color: #E2EBFA;\n",
              "      box-shadow: 0px 1px 2px rgba(60, 64, 67, 0.3), 0px 1px 3px 1px rgba(60, 64, 67, 0.15);\n",
              "      fill: #174EA6;\n",
              "    }\n",
              "\n",
              "    [theme=dark] .colab-df-convert {\n",
              "      background-color: #3B4455;\n",
              "      fill: #D2E3FC;\n",
              "    }\n",
              "\n",
              "    [theme=dark] .colab-df-convert:hover {\n",
              "      background-color: #434B5C;\n",
              "      box-shadow: 0px 1px 3px 1px rgba(0, 0, 0, 0.15);\n",
              "      filter: drop-shadow(0px 1px 2px rgba(0, 0, 0, 0.3));\n",
              "      fill: #FFFFFF;\n",
              "    }\n",
              "  </style>\n",
              "\n",
              "      <script>\n",
              "        const buttonEl =\n",
              "          document.querySelector('#df-91dbb553-8978-4c39-9ec4-59f1f8cd545f button.colab-df-convert');\n",
              "        buttonEl.style.display =\n",
              "          google.colab.kernel.accessAllowed ? 'block' : 'none';\n",
              "\n",
              "        async function convertToInteractive(key) {\n",
              "          const element = document.querySelector('#df-91dbb553-8978-4c39-9ec4-59f1f8cd545f');\n",
              "          const dataTable =\n",
              "            await google.colab.kernel.invokeFunction('convertToInteractive',\n",
              "                                                     [key], {});\n",
              "          if (!dataTable) return;\n",
              "\n",
              "          const docLinkHtml = 'Like what you see? Visit the ' +\n",
              "            '<a target=\"_blank\" href=https://colab.research.google.com/notebooks/data_table.ipynb>data table notebook</a>'\n",
              "            + ' to learn more about interactive tables.';\n",
              "          element.innerHTML = '';\n",
              "          dataTable['output_type'] = 'display_data';\n",
              "          await google.colab.output.renderOutput(dataTable, element);\n",
              "          const docLink = document.createElement('div');\n",
              "          docLink.innerHTML = docLinkHtml;\n",
              "          element.appendChild(docLink);\n",
              "        }\n",
              "      </script>\n",
              "    </div>\n",
              "  </div>\n",
              "  "
            ]
          },
          "metadata": {},
          "execution_count": 12
        }
      ]
    },
    {
      "cell_type": "markdown",
      "source": [
        "Using TfidfVectorizer\n",
        "\n",
        "\n",
        "Transforms text to feature vectors that can be used as input to estimator"
      ],
      "metadata": {
        "id": "INRMu6Pn3yDB"
      }
    },
    {
      "cell_type": "code",
      "source": [
        "from sklearn.feature_extraction.text import TfidfVectorizer\n",
        "from sklearn.metrics.pairwise import linear_kernel\n",
        "\n",
        "\"\"\" An n-gram is just a string of n words in a row. E.g. the sentence 'I am Groot' contains the 2-grams 'I am' and 'am Groot'.\n",
        " The sentence is itself a 3-gram. Set the parameter ngram_range=(a,b) where a is the minimum and b is the maximum size of ngrams you want to include in your features \"\"\"\n",
        "\n",
        "\n",
        "vectorizer = TfidfVectorizer(stop_words=\"english\",ngram_range=(1,2))\n",
        "\n",
        "#in our case we are using min 1 and max 2 size of grams\n",
        "\n",
        "tfidf = vectorizer.fit_transform(movie[\"new_title\"])"
      ],
      "metadata": {
        "id": "AfzBkDhT36YS"
      },
      "execution_count": null,
      "outputs": []
    },
    {
      "cell_type": "code",
      "source": [
        "from sklearn.metrics.pairwise import cosine_similarity\n",
        "\n",
        "def get_recommendation(title):\n",
        "  \n",
        "  #passing to new_title function to clean up\n",
        "  title = new_title(title)\n",
        "  #transfering the title; since it is a string and we have to pass a list we are using [title]\n",
        "  query_vec = vectorizer.transform([title])\n",
        "  #print([title])\n",
        "  #print(query_vec)\n",
        "  #passing inside cosine similarity to get the similarity value. We'll have only one value as we have compared with one string title\n",
        "  similarity = cosine_similarity(query_vec, tfidf).flatten()\n",
        "  #print(similarity)\n",
        "  #sim_scores= enumerate(similarity)\n",
        "  #print(sim_scores)\n",
        "\n",
        "\n",
        "  #sorting the similairty values and getting the index of those values using argsort; we can use argpartition also\n",
        "  inx = np.argsort(similarity)\n",
        "\n",
        "  #getting the last 10 values after sorting and saving in descending order to match the most relevent titles\n",
        "  inde=[]\n",
        "  inde = inx[-10:][::-1]\n",
        "\n",
        "  #saving the movie title in results using the index\n",
        "  results = movie.title.iloc[inde]\n",
        "  print(results)\n",
        "\n",
        "\n",
        "\n"
      ],
      "metadata": {
        "id": "HST3bUlpNfTj"
      },
      "execution_count": null,
      "outputs": []
    },
    {
      "cell_type": "code",
      "source": [
        "get_recommendation('Anabelle')\n"
      ],
      "metadata": {
        "colab": {
          "base_uri": "https://localhost:8080/"
        },
        "id": "bYqE57xPDFRe",
        "outputId": "bba5a359-015e-4eaf-91f2-f6fd7ae3d195"
      },
      "execution_count": null,
      "outputs": [
        {
          "output_type": "stream",
          "name": "stdout",
          "text": [
            "23324                            Elvis and Anabelle (2007)\n",
            "62422                       Women of Devil's Island (1962)\n",
            "20815                                   High School (2010)\n",
            "20813    2013 Rock and Roll Hall of Fame Induction Cere...\n",
            "20812                                White Reindeer (2013)\n",
            "20811                             Heiter bis wolkig (2012)\n",
            "20810      Fly Away (Bis zum Horizont, dann links!) (2012)\n",
            "20809         Open Up to Me (Kerron sinulle kaiken) (2013)\n",
            "20808                                Apnea (Apnoia) (2010)\n",
            "20807              Fuck You, Goethe (Fack Ju Göhte) (2013)\n",
            "Name: title, dtype: object\n"
          ]
        }
      ]
    },
    {
      "cell_type": "code",
      "source": [
        "get_recommendation('thor')"
      ],
      "metadata": {
        "colab": {
          "base_uri": "https://localhost:8080/"
        },
        "id": "jsHu7fgGFfQG",
        "outputId": "a192ca40-b08b-441d-ba48-3f4b41709b10"
      },
      "execution_count": null,
      "outputs": [
        {
          "output_type": "stream",
          "name": "stdout",
          "text": [
            "40293                                     I Am Thor (2015)\n",
            "16312                                          Thor (2011)\n",
            "25069                                Thor: Ragnarok (2017)\n",
            "20513                          Thor: The Dark World (2013)\n",
            "43265    While You Were Fighting: A Thor Mockumentary (...\n",
            "20841          Highlander: The Search for Vengeance (2007)\n",
            "20801                               As Cool As I Am (2013)\n",
            "20812                                White Reindeer (2013)\n",
            "20811                             Heiter bis wolkig (2012)\n",
            "20810      Fly Away (Bis zum Horizont, dann links!) (2012)\n",
            "Name: title, dtype: object\n"
          ]
        }
      ]
    },
    {
      "cell_type": "code",
      "source": [
        "get_recommendation('ponniyin selvan')"
      ],
      "metadata": {
        "colab": {
          "base_uri": "https://localhost:8080/"
        },
        "id": "TxjpLz2TGVLN",
        "outputId": "bb0202eb-4d3e-45f6-89e7-168e4bab733a"
      },
      "execution_count": null,
      "outputs": [
        {
          "output_type": "stream",
          "name": "stdout",
          "text": [
            "62422                       Women of Devil's Island (1962)\n",
            "20786                                    Green Hell (1940)\n",
            "20814                                        Gorko! (2013)\n",
            "20813    2013 Rock and Roll Hall of Fame Induction Cere...\n",
            "20812                                White Reindeer (2013)\n",
            "20811                             Heiter bis wolkig (2012)\n",
            "20810      Fly Away (Bis zum Horizont, dann links!) (2012)\n",
            "20809         Open Up to Me (Kerron sinulle kaiken) (2013)\n",
            "20808                                Apnea (Apnoia) (2010)\n",
            "20807              Fuck You, Goethe (Fack Ju Göhte) (2013)\n",
            "Name: title, dtype: object\n"
          ]
        }
      ]
    },
    {
      "cell_type": "markdown",
      "source": [
        "\n",
        "\n",
        "> **This is content based recommendation model and the filtering is based on the title.** \n",
        "\n",
        "> **Pros of this model are:**\n",
        "\n",
        "\n",
        "1.   It'll provide output even when we provide the title in lower case letters\n",
        "2.   It'll try to provide the recommendations even if the title is not available in the dataset.\n",
        "\n",
        "> **Cons**\n",
        "\n",
        "\n",
        "1.   Recommendation is purely based on movie title only. So if an user is trying to watch similar movie based on genre/overview/storyline... this is not the good one\n",
        "\n",
        "\n",
        "\n",
        "\n",
        "\n",
        "\n",
        "---\n",
        "\n",
        "\n",
        "\n",
        "\n",
        "\n",
        "`Note: If there is any other column which provides the description of the movie in the dataset, we can use that so that the recommendations will be even much better`\n",
        "\n",
        "\n",
        "\n",
        "\n"
      ],
      "metadata": {
        "id": "8RrskTaFEJ1R"
      }
    }
  ]
}